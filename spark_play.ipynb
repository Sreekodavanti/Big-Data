{
  "cells": [
    {
      "cell_type": "markdown",
      "metadata": {
        "id": "view-in-github",
        "colab_type": "text"
      },
      "source": [
        "<a href=\"https://colab.research.google.com/github/Sreekodavanti/Big-Data/blob/main/spark_play.ipynb\" target=\"_parent\"><img src=\"https://colab.research.google.com/assets/colab-badge.svg\" alt=\"Open In Colab\"/></a>"
      ]
    },
    {
      "cell_type": "markdown",
      "metadata": {
        "id": "4ofTDZxFaSa4"
      },
      "source": [
        "## Before you begin, you will need to create a new environment in Anaconda\n",
        "\n",
        "``` conda env create -f environment.yml ```\n",
        "\n",
        "You may also need to install Java and/or Scala."
      ]
    },
    {
      "cell_type": "code",
      "execution_count": null,
      "metadata": {
        "id": "F7RuJSLlaSa7",
        "outputId": "cb9658a7-1e0d-4900-c294-49d621cb426e"
      },
      "outputs": [
        {
          "name": "stderr",
          "output_type": "stream",
          "text": [
            "23/07/11 12:32:23 WARN Utils: Your hostname, Ryans-MacBook-Pro.local resolves to a loopback address: 127.0.0.1; using 10.193.10.21 instead (on interface en0)\n",
            "23/07/11 12:32:23 WARN Utils: Set SPARK_LOCAL_IP if you need to bind to another address\n",
            "23/07/11 12:32:23 WARN NativeCodeLoader: Unable to load native-hadoop library for your platform... using builtin-java classes where applicable\n",
            "Setting default log level to \"WARN\".\n",
            "To adjust logging level use sc.setLogLevel(newLevel). For SparkR, use setLogLevel(newLevel).\n",
            "                                                                                \r"
          ]
        },
        {
          "name": "stdout",
          "output_type": "stream",
          "text": [
            "+---+---------+\n",
            "| id|   number|\n",
            "+---+---------+\n",
            "|  1|19.328894|\n",
            "|  2| 16.14781|\n",
            "|  3|13.593437|\n",
            "|  4|13.982355|\n",
            "|  5|13.188639|\n",
            "+---+---------+\n",
            "only showing top 5 rows\n",
            "\n"
          ]
        }
      ],
      "source": [
        "from pyspark.sql import SparkSession\n",
        "import time\n",
        "\n",
        "\n",
        "JDBC_URL = \"jdbc:postgresql://localhost:5432/kafka_test\"\n",
        "JDBC_DRIVER = \"org.postgresql.Driver\"\n",
        "JDBC_DRIVER_PATH = \"./postgresql-42.6.0.jar\"\n",
        "\n",
        "spark = SparkSession.builder \\\n",
        "  .appName(\"spark_play\") \\\n",
        "  .config(\"spark.jars\", JDBC_DRIVER_PATH) \\\n",
        "  .config(\"spark.driver.extraClassPath\", JDBC_DRIVER_PATH) \\\n",
        "  .config(\"spark.executor.memory\", \"1g\") \\\n",
        "  .config(\"spark.executor.cores\", \"2\") \\\n",
        "  .getOrCreate()\n",
        "\n",
        "\n"
      ]
    },
    {
      "cell_type": "code",
      "execution_count": null,
      "metadata": {
        "id": "pJTdjqDSaSa-",
        "outputId": "8e134f5f-0013-4944-a5e5-2238d2919a5b"
      },
      "outputs": [
        {
          "name": "stdout",
          "output_type": "stream",
          "text": [
            "this script took  0.14183497428894043  seconds to run\n"
          ]
        },
        {
          "name": "stderr",
          "output_type": "stream",
          "text": [
            "/var/folders/xd/8_7vfh9950qfnn0bhl5l31gm0000gn/T/ipykernel_5180/525020244.py:10: UserWarning: pandas only supports SQLAlchemy connectable (engine/connection) or database string URI or sqlite3 DBAPI2 connection. Other DBAPI2 objects are not tested. Please consider using SQLAlchemy.\n",
            "  df = pd.read_sql_query(\"SELECT * FROM numbers;\", conn) # use whatever query you want here.\n"
          ]
        },
        {
          "data": {
            "image/png": "[encoded data removed]",
            "text/plain": [
              "<Figure size 640x480 with 1 Axes>"
            ]
          },
          "metadata": {},
          "output_type": "display_data"
        }
      ],
      "source": [
        "import pandas as pd\n",
        "import matplotlib.pyplot as plt\n",
        "import seaborn as sns\n",
        "import psycopg2\n",
        "import time\n",
        "\n",
        "start = time.time()\n",
        "\n",
        "conn = psycopg2.connect(database=\"kafka_test\", user=\"postgres\", password=\"password\", host=\"localhost\", port=\"5432\")\n",
        "df = pd.read_sql_query(\"SELECT * FROM numbers;\", conn) # use whatever query you want here.\n",
        "\n",
        "fig, ax = plt.subplots()\n",
        "df['number'].hist(ax=ax, bins=30, bottom=0.1)\n",
        "\n",
        "print (\"this script took \", time.time() - start, \" seconds to run\")\n",
        "\n",
        "\n"
      ]
    },
    {
      "cell_type": "markdown",
      "metadata": {
        "id": "afYJBn7caSa_"
      },
      "source": [
        "\n"
      ]
    },
    {
      "cell_type": "code",
      "execution_count": null,
      "metadata": {
        "id": "0JviGX1HaSbA",
        "outputId": "2e5aeb63-9ad7-4c18-b650-ae3f973d759b"
      },
      "outputs": [
        {
          "name": "stdout",
          "output_type": "stream",
          "text": [
            "+---+---------+\n",
            "| id|   number|\n",
            "+---+---------+\n",
            "|  1|19.328894|\n",
            "|  2| 16.14781|\n",
            "|  3|13.593437|\n",
            "|  4|13.982355|\n",
            "|  5|13.188639|\n",
            "+---+---------+\n",
            "only showing top 5 rows\n",
            "\n",
            "this script took  0.6246697902679443  seconds to run\n"
          ]
        }
      ],
      "source": [
        "import time\n",
        "startSpark = time.time()\n",
        "\n",
        "df = spark.read.format(\"jdbc\") \\\n",
        "  .option(\"url\", JDBC_URL) \\\n",
        "  .option(\"driver\", JDBC_DRIVER) \\\n",
        "  .option(\"dbtable\", \"numbers\")\\\n",
        "  .option(\"user\", \"postgres\") \\\n",
        "  .option(\"password\", \"password\").load()\n",
        "\n",
        "df.show(5)\n",
        "\n",
        "print (\"this script took \", time.time() - startSpark, \" seconds to run\")"
      ]
    }
  ],
  "metadata": {
    "kernelspec": {
      "display_name": "Python 3",
      "language": "python",
      "name": "python3"
    },
    "language_info": {
      "codemirror_mode": {
        "name": "ipython",
        "version": 3
      },
      "file_extension": ".py",
      "mimetype": "text/x-python",
      "name": "python",
      "nbconvert_exporter": "python",
      "pygments_lexer": "ipython3",
      "version": "3.10.12"
    },
    "orig_nbformat": 4,
    "colab": {
      "provenance": [],
      "include_colab_link": true
    }
  },
  "nbformat": 4,
  "nbformat_minor": 0
}